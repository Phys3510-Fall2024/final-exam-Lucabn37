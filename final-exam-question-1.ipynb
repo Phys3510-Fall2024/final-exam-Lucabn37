{
 "cells": [
  {
   "cell_type": "markdown",
   "id": "9cbec6db-be7d-48d1-a2c1-75e4f1d83fb8",
   "metadata": {},
   "source": [
    "## Question #1 (50 points)\n",
    "\n",
    "***This question consists of plotting and a conceptual question. Pull code from homework and midterms to optimize your effort.***\n",
    "\n",
    "For the following potential energy for anharmonically coupled oscillators, create a figure that superimposes\n",
    "\n",
    "* a contour plot of the potential energy, and;\n",
    "* the trajectory of $Q_1$ and $Q_2$.\n",
    "\n",
    "### Point breakdown\n",
    "\n",
    "* Contour plot (20 points)\n",
    "* Trajectory plot (20 points)\n",
    "* Physical explanation (10 points)\n",
    "\n",
    "### The potential energy\n",
    "\n",
    "$$ \\Delta U = \\frac{1}{2} K_1 Q_1^2 + \\frac{1}{2} K_2 Q_2^2 + \\frac{1}{3} C Q_1 Q_2^2 $$\n",
    "\n",
    "### Constrained parameters and initial conditions\n",
    "\n",
    "Take $K_1 = 1$, $K_2 = 0.2$, $M_1 = M_2 = 1$, and $C=0.5$. For the initial conditions, take $Q_1(0) = 0$, $Q_2(0) = 1$, and both velocities starting at zero.\n",
    "\n",
    "### Plotting constraints\n",
    "Plot $Q_1$ and $Q_2$ on the horizontal and vertical axes, respectively. I suggest a meshgrid of at least $100 \\times 100$ points.\n",
    "\n",
    "For your contour plot, combine `plt.contour` and `plt.contourf` with code similar to the following:\n",
    "\n",
    "* `plt.contourf(Q1_grid, Q2_grid, U_grid, levels=50, cmap='viridis')`\n",
    "* `plt.contour(Q1_grid, Q2_grid, U_grid, levels=50, colors='white', linewidths=1)`\n",
    "\n",
    "Also, use `plt.xlim(-1.5, 1.5)` and `plt.ylim(-1.5, 1.5)`\n",
    "\n",
    "Don't forget to label your axes.\n",
    "\n",
    "### Getting and plotting the trajectory\n",
    "\n",
    "To get the trajectory, you will need to set up and solve the equations of motion, as we did in previous homework and in class. Then you can plot $Q_2$ versus $Q_1$ with `matplotlib` using a line of code similar to `plt.plot(Q1, Q2, color='red', label=\"Trajectory\")`.\n",
    "\n",
    "Plot the trajectory from $t=0$ to $t=50$, with an appropriate choice of mesh points to ensure the trajectory is resolved. (e.g. `t_mesh = np.linspace(0, 50, 200)`)\n",
    "\n",
    "### Physical explanation\n",
    "\n",
    "With your code complete, you can test four cases for the initial conditions (all with the initial velocity set to zero):\n",
    "\n",
    "1. $Q_1(0) = 0$, $Q_2(0) = 1$ (**submit this plot**)\n",
    "2. $Q_1(0) = 0$, $Q_2(0) = -1$\n",
    "3. $Q_1(0) = 1$, $Q_2(0) = 0$\n",
    "4. $Q_1(0) = -1$, $Q_2(0) = 0$\n",
    "\n",
    "Why do the dynamics differ when only $Q_1$ is initially displaced compared to when only $Q_2$ is initially displaced? How does this relate to the coupling term in the potential energy? What is the physical interpretation? You could use our cylindrical beam example from class to describe this, if you like.\n"
   ]
  },
  {
   "cell_type": "markdown",
   "id": "12f2130f-2d88-4af8-8aa3-34ae2180feca",
   "metadata": {},
   "source": [
    "$$ \\Delta U = \\frac{1}{2} K_1 Q_1^2 + \\frac{1}{2} K_2 Q_2^2 + \\frac{1}{3} C Q_1 Q_2^2 $$\n",
    "\n",
    "$ \\frac{dU}{dt} = K_1 Q_1 + K_2 Q_2 + \\frac{2}{3} C Q_1 Q_2 $\n",
    "\n",
    "$F_Q = - \\frac{dU}{dQ} = m \\ddot {Q} \\longrightarrow m \\ddot {Q} = -K_1 Q_1 - K_2 Q_2 - \\frac{2}{3} C Q_1 Q_2 $\n",
    "\n",
    "$ \\ddot{Q} + \\frac{K_1}{m} Q_1 + \\frac{K_2}{m} Q_2 + \\frac{2}{3} \\frac{C}{m} Q_1 Q_2 = 0 $\n",
    "\n",
    "$ \\dot{V} = - \\frac{K_1}{m} Q_1 - \\frac{K_2}{m} Q_2 - \\frac{2}{3} \\frac{C}{m} Q_1 Q_2 $\n"
   ]
  },
  {
   "cell_type": "code",
   "execution_count": 91,
   "id": "e077d5de-9e03-4954-b8fe-a2fe033ac8a9",
   "metadata": {},
   "outputs": [],
   "source": [
    "# Importing necessary libraries\n",
    "import numpy as np\n",
    "import matplotlib.pyplot as plt\n",
    "from ipywidgets import interact, FloatSlider, IntSlider\n",
    "from scipy.integrate import solve_ivp"
   ]
  },
  {
   "cell_type": "code",
   "execution_count": 94,
   "id": "7e00283b-f036-446e-bf4d-b155b9ebca73",
   "metadata": {},
   "outputs": [],
   "source": [
    "# Defining the Function\n",
    "def potential_energy(Q1, Q2, K1, K2, C): \n",
    "    \n",
    "    return 0.5 * K1 * Q1**2 + 0.5 * K2 * Q2**2 + 1/3 * C * Q1 * Q2**2\n",
    "\n",
    "def plot_potential_energy (Q1=0, Q2=1, K1=1, K2=0.2, C=0.5, levels=50): \n",
    "\n",
    "    # Define x,y min, max\n",
    "    x_min = -1.5\n",
    "    x_max = 1.5\n",
    "    y_min = -1.5\n",
    "    y_max = 1.5\n",
    "    \n",
    "    \n",
    "    # Generate the grid\n",
    "    Q1_vals = np.linspace(x_min, x_max, 100)\n",
    "    Q2_vals = np.linspace(y_min, y_max, 100)\n",
    "    Q1_mesh, Q2_mesh = np.meshgrid(Q1_vals, Q2_vals)\n",
    "    # Compute potential energy on the grid\n",
    "    U_vals = potential_energy(Q1_mesh, Q2_mesh, K1, K2, C)\n",
    "\n",
    "\n",
    "    # Create the plot\n",
    "    plt.figure(figsize=(5, 5))\n",
    "    contour_filled = plt.contourf(Q1_mesh, Q2_mesh, U_vals, levels=levels, cmap='viridis')\n",
    "    contour_lines = plt.contour(Q1_mesh, Q2_mesh, U_vals, levels=levels, colors='white', linewidths=1)\n",
    "    plt.plot(Q1, Q2, color='red', label=\"Trajectory\")\n",
    "    \n",
    "    # Set axis labels and range\n",
    "    plt.xlabel('$Q_1$', fontsize=12)\n",
    "    plt.ylabel('$Q_2$', fontsize=12)\n",
    "    plt.xlim([x_min, x_max])\n",
    "    plt.ylim([y_min, y_max])\n",
    "\n",
    "    plt.show()"
   ]
  },
  {
   "cell_type": "code",
   "execution_count": 95,
   "id": "51f8b45a-7e85-4902-a820-30673b75951f",
   "metadata": {},
   "outputs": [
    {
     "data": {
      "application/vnd.jupyter.widget-view+json": {
       "model_id": "58d789130a784239bdc09aa8f910bb04",
       "version_major": 2,
       "version_minor": 0
      },
      "text/plain": [
       "interactive(children=(IntSlider(value=0, description='Q1', max=1), IntSlider(value=1, description='Q2', max=3,…"
      ]
     },
     "metadata": {},
     "output_type": "display_data"
    },
    {
     "data": {
      "text/plain": [
       "<function __main__.plot_potential_energy(Q1=0, Q2=1, K1=1, K2=0.2, C=0.5, levels=50)>"
      ]
     },
     "execution_count": 95,
     "metadata": {},
     "output_type": "execute_result"
    }
   ],
   "source": [
    "interact(plot_potential_energy)"
   ]
  },
  {
   "cell_type": "markdown",
   "id": "1e1690bf-05c4-4083-b0c4-3141ee27db31",
   "metadata": {},
   "source": [
    "While both $Q_1$ and $Q_2$ have similar order terms, i.e $\\frac{1}{2} K_1 Q_1^2$ and $\\frac{1}{2} K_2 Q_2^2$, the third coupling term has $Q_2$ to a higher order than $Q_1$ $\\longrightarrow$ $\\frac{1}{3} C Q_1 Q_2^2$.\n",
    "This means that $Q_1$ and $Q_2$ have different influences on the potential energy of the system. In reference to the cylindrical beam, $Q_2$ being in a higher order than $Q_1$ can refer to the symmetry of the beam. Perhaps the displacement along $Q_2$ exhibits some kind of motion only described by a higher order, for example $Q_2$ may only be a positive term therefore the symmetry of the beam may only be deformed in one direction."
   ]
  },
  {
   "cell_type": "code",
   "execution_count": 97,
   "id": "28457218-de57-4bbe-8ec9-337689c4151a",
   "metadata": {},
   "outputs": [
    {
     "ename": "NameError",
     "evalue": "name 'm' is not defined",
     "output_type": "error",
     "traceback": [
      "\u001b[0;31m---------------------------------------------------------------------------\u001b[0m",
      "\u001b[0;31mNameError\u001b[0m                                 Traceback (most recent call last)",
      "Cell \u001b[0;32mIn[97], line 23\u001b[0m\n\u001b[1;32m     16\u001b[0m t_eval \u001b[38;5;241m=\u001b[39m np\u001b[38;5;241m.\u001b[39mlinspace(\u001b[38;5;241m0\u001b[39m, \u001b[38;5;241m50\u001b[39m, \u001b[38;5;241m200\u001b[39m) \n\u001b[1;32m     17\u001b[0m t_max \u001b[38;5;241m=\u001b[39m \u001b[38;5;241m50\u001b[39m \n\u001b[1;32m     18\u001b[0m sol \u001b[38;5;241m=\u001b[39m solve_ivp(dU_potential_energy, \n\u001b[1;32m     19\u001b[0m                 [\u001b[38;5;241m0\u001b[39m, t_max], \n\u001b[1;32m     20\u001b[0m                 y0, \n\u001b[1;32m     21\u001b[0m                 method\u001b[38;5;241m=\u001b[39m\u001b[38;5;124m'\u001b[39m\u001b[38;5;124mRK45\u001b[39m\u001b[38;5;124m'\u001b[39m, \n\u001b[1;32m     22\u001b[0m                 t_eval\u001b[38;5;241m=\u001b[39mnp\u001b[38;5;241m.\u001b[39mlinspace(\u001b[38;5;241m0\u001b[39m, t_max, \u001b[38;5;241m1000\u001b[39m), \n\u001b[0;32m---> 23\u001b[0m                 args\u001b[38;5;241m=\u001b[39m(\u001b[43mm\u001b[49m, K1, K2, C)) \n\u001b[1;32m     25\u001b[0m \u001b[38;5;66;03m# solve_for_dynamics\u001b[39;00m\n\u001b[1;32m     26\u001b[0m \u001b[38;5;28;01mdef\u001b[39;00m \u001b[38;5;21msolve_diff_plot\u001b[39m(t_max, Q1_0, Q2_0):\n\u001b[1;32m     27\u001b[0m     \u001b[38;5;66;03m# define initial values of Q and V\u001b[39;00m\n",
      "\u001b[0;31mNameError\u001b[0m: name 'm' is not defined"
     ]
    }
   ],
   "source": [
    "#Trajectory\n",
    "\n",
    "# analytically or sympy for derivs of potential\n",
    "def dU_potential_energy(t, y, K1, K2, C, m):\n",
    "    Q, V = y\n",
    "    dQdt = V\n",
    "    dVdt = -K1/m * Q1 - K2/m * Q2 - (2*C)/(3*m) * Q1 * Q2 \n",
    "    return [dQdt, dVdt]\n",
    "# Initial conditions for Q and V\n",
    "Q1_0 = 0.0\n",
    "Q2_0 = 0.0\n",
    "V0 = 0.0  \n",
    "y0 = [Q1_0, Q2_0, V0]\n",
    "# Time span for the solution\n",
    "t_span = (0, 50) \n",
    "t_eval = np.linspace(0, 50, 200) \n",
    "t_max = 50 \n",
    "sol = solve_ivp(dU_potential_energy, \n",
    "                [0, t_max], \n",
    "                y0, \n",
    "                method='RK45', \n",
    "                t_eval=np.linspace(0, t_max, 1000), \n",
    "                args=(m, K1, K2, C)) \n",
    "\n",
    "# solve_for_dynamics\n",
    "def solve_diff_plot(t_max, Q1_0, Q2_0):\n",
    "    # define initial values of Q and V\n",
    "    y0 = [Q1_0, Q2_0, V0]    \n",
    "    # Solve the system of ODEs\n",
    "    sol = solve_ivp(dU_potential_energy, [0, t_max], y0, t_eval=np.linspace(0, t_max, 1000), args=(m, K1, K2, C))\n",
    "    Q_sol = sol.y[0]\n",
    "    V_sol = sol.y[1]\n",
    "    t_sol = sol.t\n",
    "\n",
    "# wasnt working with the plot so ive left some work here"
   ]
  },
  {
   "cell_type": "code",
   "execution_count": null,
   "id": "8bc503b7-162b-4f65-8c6b-5f2419630768",
   "metadata": {},
   "outputs": [],
   "source": []
  }
 ],
 "metadata": {
  "kernelspec": {
   "display_name": "Python 3 (ipykernel)",
   "language": "python",
   "name": "python3"
  },
  "language_info": {
   "codemirror_mode": {
    "name": "ipython",
    "version": 3
   },
   "file_extension": ".py",
   "mimetype": "text/x-python",
   "name": "python",
   "nbconvert_exporter": "python",
   "pygments_lexer": "ipython3",
   "version": "3.9.20"
  }
 },
 "nbformat": 4,
 "nbformat_minor": 5
}
