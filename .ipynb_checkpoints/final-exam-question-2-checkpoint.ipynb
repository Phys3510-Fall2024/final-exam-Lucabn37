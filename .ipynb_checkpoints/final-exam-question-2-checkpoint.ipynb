{
 "cells": [
  {
   "cell_type": "markdown",
   "id": "8d7c3dcd-5e18-4bfa-a932-da5ec1c22528",
   "metadata": {},
   "source": [
    "## Question 2 (50 points)\n",
    "\n",
    "***This question consists of pseudocode, extracting a frequency numerically, and plotting. Pull code from homework and midterms to optimize your effort.***\n",
    "\n",
    "For the following potential energy for an anharmonic oscillator, we will create a figure that shows the angular frequency, $\\omega$ versus the initial amplitude of the oscillator $Q_0$.\n",
    "\n",
    "### The potential energy (notice the minus sign on the fourth-order term)\n",
    "\n",
    "$$ \\Delta U = \\frac{1}{2} K Q^2 - \\frac{1}{4} D Q^4 + \\frac{1}{6} \\Phi Q^6 $$\n",
    "\n",
    "### Constrained parameters\n",
    "\n",
    "Take $K = 1$, $D=2.4$, $\\Phi=1$, and $M = 1$.\n",
    "\n",
    "### Plotting constraints\n",
    "\n",
    "Plot a range of initial displacements spanning $Q_0 = \\pm 1.7$ (see the representative plot below)\n",
    "\n",
    "### Extracting the angular frequency\n",
    "\n",
    "Recall that in the second midterm and subsequent weeks we developed a strategy for a variant of this problem which used the following steps:\n",
    "\n",
    "1. Solve the differential equation for $Q(t)$ for initial value $Q_0$ (take the initial velocity to be zero);\n",
    "2. Use `ipywidgets` to explore this solution in a figure and extract approximate values of the period $T$ as a function of $Q_0$. We found $T$ by getting the time from peak to peak or valley to valley;\n",
    "3. Interpolate the approximate values of $T$;\n",
    "4. Use in interpolated values of $T$ as a guess for a minima finding algorithm;\n",
    "5. Convert the extracted values of $T$ to angular frequency by $\\omega=\\frac{2\\pi}{T}$.\n",
    "6. To deal with the stationary solutions (e.g. $Q_0 = 0$), we used analytic results for the angular frequency by taking using the formula $\\omega = \\sqrt{\\frac{1}{M}\\frac{d^2\\Delta U}{d Q^2}}$.\n",
    "\n",
    "***This means you should be able to copy and paste most of the code from the midterm and subsequent weeks to optimize your effort***\n",
    "\n",
    "### Steps to construct the plot\n",
    "\n",
    "1. Write pseudocode to set up your strategy (**10 points**);\n",
    "2. Expand your pseudocode to include INPUT, OUTPUT, and TESTS that you could use to program each custom function (**10 points**);\n",
    "3. Write those functions and test them (**10 points**);\n",
    "4. Combine your custom functions for streamlined code and the plot of $\\omega$ versus $Q_0$ (**10 points**);\n",
    "5. Describe the plot in your own words (**10 points**)."
   ]
  },
  {
   "cell_type": "markdown",
   "id": "2b34c8d2-64d2-4981-82a9-a0cf4ce9198b",
   "metadata": {},
   "source": [
    "### Plot of the potential energy"
   ]
  },
  {
   "cell_type": "code",
   "execution_count": 3,
   "id": "a50f8e1e-81f4-4e36-8300-8a11f9d5bc95",
   "metadata": {},
   "outputs": [
    {
     "data": {
      "image/png": "[encoded data removed]",
      "text/plain": [
       "<Figure size 500x400 with 1 Axes>"
      ]
     },
     "metadata": {},
     "output_type": "display_data"
    }
   ],
   "source": [
    "import numpy as np\n",
    "import matplotlib.pyplot as plt\n",
    "\n",
    "# define potential function\n",
    "def potential_energy(Q, K=1.0, D=2.4, Phi=1.0):\n",
    "    return (1/2) * K * Q**2 - (1/4) * D * Q**4 + (1/6) * Phi * Q**6\n",
    "\n",
    "# define mesh for plotting\n",
    "Q_mesh = np.linspace(-2,2,100)\n",
    "U_mesh = potential_energy(Q_mesh)\n",
    "\n",
    "# construct figure\n",
    "plt.figure(figsize=(5, 4))\n",
    "plt.plot(Q_mesh, U_mesh, color=\"gray\")\n",
    "plt.xlabel(\"$Q$\")\n",
    "plt.ylabel(\"$\\Delta U$\")\n",
    "plt.xlim(-2,2)\n",
    "plt.ylim(-0.1,0.25)\n",
    "plt.show()"
   ]
  },
  {
   "cell_type": "code",
   "execution_count": null,
   "id": "1cabcadf-c5ec-43d2-9c4d-9ba940936459",
   "metadata": {},
   "outputs": [],
   "source": [
    "## Pseudocode:\n",
    "# import libraries\n",
    "# e.g., numpy, matplotlib, scipy.integrate, ipywidgets\n",
    "\n",
    "# define constants (K, D, phi, delta t)\n",
    "\n",
    "# get_eqns_of_motion\n",
    "# analytically or sympy for derivs of potential\n",
    "\n",
    "# System of equations\n",
    "# input: position/displacement, velocity, time, Q(t=0),Qdot(t=0)\n",
    "# outputs: time derivatives (d/dt Q, d/dt Qdot)\n",
    "# tests: can test a few cases analytically\n",
    "\n",
    "# solve_for_dynamics\n",
    "# minimization, root finding\n",
    "\n",
    "# extract_frequency : make guess, replug for period\n",
    "# plot_frequency_vs_Q0"
   ]
  },
  {
   "cell_type": "code",
   "execution_count": 28,
   "id": "e077d5de-9e03-4954-b8fe-a2fe033ac8a9",
   "metadata": {},
   "outputs": [
    {
     "data": {
      "application/vnd.jupyter.widget-view+json": {
       "model_id": "53156c510704428d86b36cdf69ae15ce",
       "version_major": 2,
       "version_minor": 0
      },
      "text/plain": [
       "interactive(children=(FloatSlider(value=10.0, description='Max Time', max=50.0, step=1.0), FloatSlider(value=0…"
      ]
     },
     "metadata": {},
     "output_type": "display_data"
    }
   ],
   "source": [
    "# import libraries\n",
    "import numpy as np\n",
    "import matplotlib.pyplot as plt\n",
    "from scipy.integrate import solve_ivp\n",
    "import ipywidgets as widgets\n",
    "from ipywidgets import interact, FloatSlider\n",
    "import sympy as sp\n",
    "\n",
    "\n",
    "\n",
    "# define constants (K, D, phi, delta t)\n",
    "K = 1\n",
    "D = 2.4\n",
    "Phi = 1\n",
    "m = 1\n",
    "omega = 1\n",
    "\n",
    "\n",
    "# get_eqns_of_motion\n",
    "def potential_energy(Q, K=1.0, D=2.4, Phi=1.0):\n",
    "    return (1/2) * K * Q**2 - (1/4) * D * Q**4 + (1/6) * Phi * Q**6\n",
    "\n",
    "\n",
    "# analytically or sympy for derivs of potential\n",
    "def dU_potential_energy(t, y, D, m, K, Phi):\n",
    "    Q, V = y\n",
    "    dQdt = V\n",
    "    dVdt = -K/m * Q + D/m * Q**3 - Phi/m * Q**5 \n",
    "    return [dQdt, dVdt]\n",
    "\n",
    "\n",
    "# System of equations\n",
    "# input: position/displacement, velocity, time, Q(t=0),Qdot(t=0)\n",
    "# outputs: time derivatives (d/dt Q, d/dt Qdot)\n",
    "# tests: can test a few cases analytically\n",
    "\n",
    "# Initial conditions for Q and V\n",
    "Q0 = 0.0  \n",
    "V0 = 0.0  \n",
    "y0 = [Q0, V0]\n",
    "\n",
    "# Time span for the solution\n",
    "t_span = (0, 50)  # start and end time\n",
    "t_eval = np.linspace(0, 50, 1000)  # times at which to store the computed solution\n",
    "\n",
    "\n",
    "#use differential equation solvers to find Q(t)\n",
    "t_max = 50 #test values for max\n",
    "sol = solve_ivp(dU_potential_energy, \n",
    "                [0, t_max], \n",
    "                y0, \n",
    "                method='RK45', \n",
    "                t_eval=np.linspace(0, t_max, 1000), \n",
    "                args=(m, D, K, Phi)) \n",
    "\n",
    "# solve_for_dynamics\n",
    "# minimization, root finding\n",
    "def solve_diff_plot(t_max, Q0):\n",
    "    # define initial values of Q and V\n",
    "    y0 = [Q0, V0]\n",
    "    \n",
    "    # Solve the system of ODEs\n",
    "    sol = solve_ivp(dU_potential_energy, [0, t_max], y0, t_eval=np.linspace(0, t_max, 1000), args=(m, D, Phi, K))\n",
    "    Q_sol = sol.y[0]\n",
    "    V_sol = sol.y[1]\n",
    "    t_sol = sol.t\n",
    "\n",
    "# extract_frequency : make guess, replug for period\n",
    "# plot_frequency_vs_Q0\n",
    " # plot Q, V\n",
    "    \n",
    "    plt.figure(figsize=(11,4))\n",
    "    plt.plot(t_sol, Q_sol, label=\"Q(t)\", color = 'red')\n",
    "    #plt.plot(t_sol, V_sol, label=\"Velocity V(t)\")\n",
    "    plt.xlabel(\"Time\")\n",
    "    plt.ylabel(\"Amplitude of Q\")\n",
    "    plt.legend()\n",
    "    plt.show()\n",
    "\n",
    "# Create sliders for interactive plotting, including a time slider\n",
    "#K_slider = widgets.FloatSlider(value=1.0, min=0.0, max=5.0, step=0.1, description='K')\n",
    "#Phi_slider = widgets.FloatSlider(value=1.0, min=0.0, max=5.0, step=0.1, description='Phi')\n",
    "#V0_slider = widgets.FloatSlider(value=0.0, min=0.0, max=5.0, step=0.1, description='Initial V_0')\n",
    "t_max_slider = widgets.FloatSlider(value=10, min=0, max=50, step=1, description='Max Time')\n",
    "Q0_slider = widgets.FloatSlider(value=0.0, min=-1.7, max=1.7, step=0.01, description='Initial Q_0')\n",
    "interactive_plot = widgets.interactive(solve_diff_plot,\n",
    "                                       t_max=t_max_slider, Q0=Q0_slider) #omega=omega_slider, Phi=Phi_slider, V0=V0_slider)\n",
    "display(interactive_plot)\n"
   ]
  },
  {
   "cell_type": "code",
   "execution_count": 43,
   "id": "c2f174b2-1519-4014-9015-d5d6d0e26975",
   "metadata": {},
   "outputs": [
    {
     "data": {
      "text/plain": [
       "Text(0, 0.5, '$\\\\omega$')"
      ]
     },
     "execution_count": 43,
     "metadata": {},
     "output_type": "execute_result"
    },
    {
     "data": {
      "image/png": "[encoded data removed]",
      "text/plain": [
       "<Figure size 800x600 with 1 Axes>"
      ]
     },
     "metadata": {},
     "output_type": "display_data"
    }
   ],
   "source": [
    "import numpy as np\n",
    "import matplotlib.pyplot as plt\n",
    "from scipy.interpolate import interp1d\n",
    "\n",
    "\n",
    "# Data:\n",
    "\n",
    "Q_0_by_hand = np.array([-1.7, -1.55, -1.42, -1.2, -0.9, -0.71, -0.60, -0.44, -0.3, -0.14, -0.04, 0.05, 0.16, 0.33, 0.60, 0.75, 0.90, 1.07, 1.18, 1.30])\n",
    "T_by_hand = np.array([5.3, 6.0, 7.0, 9.0, 11.0, 10.79, 10.5, 10.35, 10.0, 9.87, 9.67, 9.8, 10.00, 10.5, 10.75, 11.0, 10.8, 10.00, 9.0, 8.00])\n",
    "Omega_by_hand = 2*np.pi / T_by_hand\n",
    "\n",
    "# Plot\n",
    "plt.figure(figsize=(8, 6))\n",
    "plt.plot(Q_0_by_hand, Omega_by_hand, 'o', label='Original Data', markersize=5)\n",
    "plt.xlabel(\"$Q_0$\")\n",
    "plt.ylabel(\"$\\omega$\")"
   ]
  },
  {
   "cell_type": "markdown",
   "id": "8c04e986-4dc2-4c42-a528-cf477715725e",
   "metadata": {},
   "source": [
    "The plot of frequency $\\omega$ vs. initial displacement $Q_0$ shows the parabolic nature of the period $T$. As $Q_0$ moves away from $0$ locally, $\\omega$ follows the shape of a saddle point. This means that as $Q$ is displaced further away from the origin, the frequency $\\omega$ begins to decrease, implying a stronger restoring force closer to approximately $\\pm 0.75$. When compared to the potential energy function this lines up, as there are two saddle points at approximately $\\pm 0.75$. Moving past this saddle point we see the frequency $\\omega$ begin to increase, implying a lower restoring force. Indeed this is also consistent with the potential energy graph which shows a decrease in energy after $\\pm 0.75$. Extending this plot beyond $Q_0 = \\pm 1.7$, I suspect the frequency will drop exponentially as the potential energy wall increases."
   ]
  },
  {
   "cell_type": "code",
   "execution_count": null,
   "id": "dd972364-a3aa-4b21-9a7a-1b81c3966c02",
   "metadata": {},
   "outputs": [],
   "source": []
  }
 ],
 "metadata": {
  "kernelspec": {
   "display_name": "Python 3 (ipykernel)",
   "language": "python",
   "name": "python3"
  },
  "language_info": {
   "codemirror_mode": {
    "name": "ipython",
    "version": 3
   },
   "file_extension": ".py",
   "mimetype": "text/x-python",
   "name": "python",
   "nbconvert_exporter": "python",
   "pygments_lexer": "ipython3",
   "version": "3.9.20"
  }
 },
 "nbformat": 4,
 "nbformat_minor": 5
}
